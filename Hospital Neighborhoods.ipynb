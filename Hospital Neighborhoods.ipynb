{
    "cells": [
        {
            "cell_type": "markdown",
            "metadata": {},
            "source": "# Applied Data Science Capstone Project - Katherine Terlesky"
        },
        {
            "cell_type": "markdown",
            "metadata": {
                "collapsed": true
            },
            "source": "# Hospital Neighborhood Selection for Traveling Nurses in New York City"
        },
        {
            "cell_type": "markdown",
            "metadata": {},
            "source": "## Business Problem"
        },
        {
            "cell_type": "markdown",
            "metadata": {},
            "source": "<p> Traveling nurses are healthcare professionals who choose to work in cities with short term nurse staffing needs.  The benefits of being a traveling nurse can be\n<br> higher pay and the ability to travel around the country exploring cities. Challenges with this traveling profession are identification of cities that meet \n<br> your interests and professional needs. Since short term housing is usually available in most cities, this tool will help prospective travelling nurses \n<br>identify hospital neighborhoods with appealing venues within a radius of the hospital. \n<p>This data science project will explore integration of hospital rating data available from the Center for Medicare and Medicaid services with Foursquare venue data. \n    <br> The analysis will be performed just for hospitals in the five boroughs of New York City. In addition, the Foursquare data will be optimized to provide sights\n    <br> relating arts and outdoor activities over restaurants. The results will provide neighborhood clusters centered around the hospitals in New York and show \n    <br> the top venues for each neighborhood. This data will be displayed on a map and help the prospective nurses better select their desirable hospital neighborhoods. \n"
        },
        {
            "cell_type": "markdown",
            "metadata": {},
            "source": "## Data Sources"
        },
        {
            "cell_type": "markdown",
            "metadata": {},
            "source": "<p> The Foursquare API will be used to retrieve venue information around the hospitals in New York City. \n    <br>In addition to the Foursquare Data, the Hospital Ratings data will be used to evaluate hospitals in the city.\n   <p> Hospitals in the United States are rated based on 7 areas of Quality including Mortality, Safety of Care, \n       <br> Readmission, Patient Experience, Effectiveness of Care, Timeliness of Care, and Efficient Use of Medical Imaging. \n       <br> The ratings in these seven areas are combined into a star rating for each hospital (range of 1-5 starts). \n       <br> There are up to 51 measures across the 7 categories, but hospital ratings are only calculated using those measures \n       <br> for which data are available. The average hospital rating is based on about 37 measures. A hospital summary score\n       <br> is then calculated by taking the weighted average of these group scores.\n       <p> Hospitals in the United States (excluding Veterans Affairs and Dept of Defense Hospitals) report data to \n           <br> the Centers for Medicare & Medicaid Services. This includes about 4,000 Medicare-certified hospitals across the country.\n           \n<p> The complete data set of all Hospital Measures is avaialble at https://data.medicare.gov/data/hospital-compare\n               \n"
        },
        {
            "cell_type": "code",
            "execution_count": null,
            "metadata": {},
            "outputs": [],
            "source": ""
        }
    ],
    "metadata": {
        "kernelspec": {
            "display_name": "Python 3.6",
            "language": "python",
            "name": "python3"
        },
        "language_info": {
            "codemirror_mode": {
                "name": "ipython",
                "version": 3
            },
            "file_extension": ".py",
            "mimetype": "text/x-python",
            "name": "python",
            "nbconvert_exporter": "python",
            "pygments_lexer": "ipython3",
            "version": "3.6.9"
        }
    },
    "nbformat": 4,
    "nbformat_minor": 1
}