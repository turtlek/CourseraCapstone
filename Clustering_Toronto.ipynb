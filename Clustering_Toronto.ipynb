{
    "cells": [
        {
            "cell_type": "markdown",
            "metadata": {
                "collapsed": true
            },
            "source": "## Clustering Toronto Neighborhoods using K-means clustering Algorithm"
        },
        {
            "cell_type": "code",
            "execution_count": 1,
            "metadata": {},
            "outputs": [
                {
                    "name": "stdout",
                    "output_type": "stream",
                    "text": "Solving environment: done\n\n# All requested packages already installed.\n\nSolving environment: \\ ^C\n| Libraries imported.\n"
                }
            ],
            "source": "import numpy as np # library to handle data in a vectorized manner\n\nimport pandas as pd # library for data analysis\npd.set_option('display.max_columns', None)\npd.set_option('display.max_rows', None)\n\nimport json # library to handle JSON files\n\n!conda install -c conda-forge geopy --yes \nfrom geopy.geocoders import Nominatim # convert an address into latitude and longitude values\n\nimport requests # library to handle requests\nfrom pandas.io.json import json_normalize # tranform JSON file into a pandas dataframe\n\n# Matplotlib and associated plotting modules\nimport matplotlib.cm as cm\nimport matplotlib.colors as colors\n\n# import k-means from clustering stage\nfrom sklearn.cluster import KMeans\n\n\nprint('Libraries imported.')"
        },
        {
            "cell_type": "code",
            "execution_count": 3,
            "metadata": {},
            "outputs": [
                {
                    "name": "stdout",
                    "output_type": "stream",
                    "text": "Solving environment: done\n\n## Package Plan ##\n\n  environment location: /opt/conda/envs/Python36\n\n  added / updated specs: \n    - folium=0.11.0\n\n\nThe following packages will be downloaded:\n\n    package                    |            build\n    ---------------------------|-----------------\n    folium-0.11.0              |             py_0          61 KB  conda-forge\n\nThe following packages will be UPDATED:\n\n    folium: 0.5.0-py_0 conda-forge --> 0.11.0-py_0 conda-forge\n\n\nDownloading and Extracting Packages\nfolium-0.11.0        | 61 KB     | ##################################### | 100% \nPreparing transaction: done\nVerifying transaction: done\nExecuting transaction: done\n"
                }
            ],
            "source": "!conda install -c conda-forge folium=0.11.0 --yes \nimport folium # map rendering library\n"
        },
        {
            "cell_type": "markdown",
            "metadata": {},
            "source": "## 1. Download and Explore Postal Codes Dataset"
        },
        {
            "cell_type": "markdown",
            "metadata": {},
            "source": "scrape the following Wikipedia page, https://en.wikipedia.org/wiki/List_of_postal_codes_of_Canada:_M, in order to obtain the data that is in the table of postal codes and to transform the data into a pandas dataframe"
        },
        {
            "cell_type": "code",
            "execution_count": 2,
            "metadata": {},
            "outputs": [],
            "source": "# import the library we use to open URLs\nimport urllib.request"
        },
        {
            "cell_type": "code",
            "execution_count": 4,
            "metadata": {},
            "outputs": [],
            "source": "# specify which URL/web page we are going to be scraping\nurl = \"https://en.wikipedia.org/wiki/List_of_postal_codes_of_Canada:_M\""
        },
        {
            "cell_type": "code",
            "execution_count": 5,
            "metadata": {},
            "outputs": [],
            "source": "# open the url using urllib.request and put the HTML into the page variable\npage = urllib.request.urlopen(url)"
        },
        {
            "cell_type": "markdown",
            "metadata": {},
            "source": "## 2 Convert to Pandas dataframe"
        },
        {
            "cell_type": "code",
            "execution_count": 25,
            "metadata": {},
            "outputs": [
                {
                    "data": {
                        "text/html": "<div>\n<style scoped>\n    .dataframe tbody tr th:only-of-type {\n        vertical-align: middle;\n    }\n\n    .dataframe tbody tr th {\n        vertical-align: top;\n    }\n\n    .dataframe thead th {\n        text-align: right;\n    }\n</style>\n<table border=\"1\" class=\"dataframe\">\n  <thead>\n    <tr style=\"text-align: right;\">\n      <th></th>\n      <th>Postal Code</th>\n      <th>Borough</th>\n      <th>Neighbourhood</th>\n    </tr>\n  </thead>\n  <tbody>\n    <tr>\n      <th>0</th>\n      <td>M1A</td>\n      <td>Not assigned</td>\n      <td>Not assigned</td>\n    </tr>\n    <tr>\n      <th>1</th>\n      <td>M2A</td>\n      <td>Not assigned</td>\n      <td>Not assigned</td>\n    </tr>\n    <tr>\n      <th>2</th>\n      <td>M3A</td>\n      <td>North York</td>\n      <td>Parkwoods</td>\n    </tr>\n    <tr>\n      <th>3</th>\n      <td>M4A</td>\n      <td>North York</td>\n      <td>Victoria Village</td>\n    </tr>\n    <tr>\n      <th>4</th>\n      <td>M5A</td>\n      <td>Downtown Toronto</td>\n      <td>Regent Park, Harbourfront</td>\n    </tr>\n  </tbody>\n</table>\n</div>",
                        "text/plain": "  Postal Code           Borough              Neighbourhood\n0         M1A      Not assigned               Not assigned\n1         M2A      Not assigned               Not assigned\n2         M3A        North York                  Parkwoods\n3         M4A        North York           Victoria Village\n4         M5A  Downtown Toronto  Regent Park, Harbourfront"
                    },
                    "execution_count": 25,
                    "metadata": {},
                    "output_type": "execute_result"
                }
            ],
            "source": "toronto=pd.read_html(url, header=0)[0]\ntoronto.head()"
        },
        {
            "cell_type": "markdown",
            "metadata": {},
            "source": "#### Remove the rows with \"Not assigned\""
        },
        {
            "cell_type": "code",
            "execution_count": 35,
            "metadata": {},
            "outputs": [
                {
                    "data": {
                        "text/html": "<div>\n<style scoped>\n    .dataframe tbody tr th:only-of-type {\n        vertical-align: middle;\n    }\n\n    .dataframe tbody tr th {\n        vertical-align: top;\n    }\n\n    .dataframe thead th {\n        text-align: right;\n    }\n</style>\n<table border=\"1\" class=\"dataframe\">\n  <thead>\n    <tr style=\"text-align: right;\">\n      <th></th>\n      <th>Postal Code</th>\n      <th>Borough</th>\n      <th>Neighbourhood</th>\n    </tr>\n  </thead>\n  <tbody>\n    <tr>\n      <th>0</th>\n      <td>M3A</td>\n      <td>North York</td>\n      <td>Parkwoods</td>\n    </tr>\n    <tr>\n      <th>1</th>\n      <td>M4A</td>\n      <td>North York</td>\n      <td>Victoria Village</td>\n    </tr>\n    <tr>\n      <th>2</th>\n      <td>M5A</td>\n      <td>Downtown Toronto</td>\n      <td>Regent Park, Harbourfront</td>\n    </tr>\n    <tr>\n      <th>3</th>\n      <td>M6A</td>\n      <td>North York</td>\n      <td>Lawrence Manor, Lawrence Heights</td>\n    </tr>\n    <tr>\n      <th>4</th>\n      <td>M7A</td>\n      <td>Downtown Toronto</td>\n      <td>Queen's Park, Ontario Provincial Government</td>\n    </tr>\n    <tr>\n      <th>5</th>\n      <td>M9A</td>\n      <td>Etobicoke</td>\n      <td>Islington Avenue, Humber Valley Village</td>\n    </tr>\n    <tr>\n      <th>6</th>\n      <td>M1B</td>\n      <td>Scarborough</td>\n      <td>Malvern, Rouge</td>\n    </tr>\n    <tr>\n      <th>7</th>\n      <td>M3B</td>\n      <td>North York</td>\n      <td>Don Mills</td>\n    </tr>\n    <tr>\n      <th>8</th>\n      <td>M4B</td>\n      <td>East York</td>\n      <td>Parkview Hill, Woodbine Gardens</td>\n    </tr>\n    <tr>\n      <th>9</th>\n      <td>M5B</td>\n      <td>Downtown Toronto</td>\n      <td>Garden District, Ryerson</td>\n    </tr>\n  </tbody>\n</table>\n</div>",
                        "text/plain": "  Postal Code           Borough                                Neighbourhood\n0         M3A        North York                                    Parkwoods\n1         M4A        North York                             Victoria Village\n2         M5A  Downtown Toronto                    Regent Park, Harbourfront\n3         M6A        North York             Lawrence Manor, Lawrence Heights\n4         M7A  Downtown Toronto  Queen's Park, Ontario Provincial Government\n5         M9A         Etobicoke      Islington Avenue, Humber Valley Village\n6         M1B       Scarborough                               Malvern, Rouge\n7         M3B        North York                                    Don Mills\n8         M4B         East York              Parkview Hill, Woodbine Gardens\n9         M5B  Downtown Toronto                     Garden District, Ryerson"
                    },
                    "execution_count": 35,
                    "metadata": {},
                    "output_type": "execute_result"
                }
            ],
            "source": "toronto = toronto[toronto.Borough!='Not assigned']\ntoronto = toronto[toronto.Borough!= 0]\ntoronto.reset_index(drop = True, inplace = True)\ni = 0\nfor i in range(0,toronto.shape[0]):\n    if toronto.iloc[i][2] == 'Not assigned':\n        toronto.iloc[i][2] = toronto.iloc[i][1]\n        i = i+1\n\ntoronto.head(10)"
        },
        {
            "cell_type": "code",
            "execution_count": 36,
            "metadata": {},
            "outputs": [
                {
                    "data": {
                        "text/plain": "(103, 3)"
                    },
                    "execution_count": 36,
                    "metadata": {},
                    "output_type": "execute_result"
                }
            ],
            "source": "toronto.shape"
        },
        {
            "cell_type": "markdown",
            "metadata": {},
            "source": "## Getting lat long for postal codes"
        },
        {
            "cell_type": "code",
            "execution_count": 37,
            "metadata": {},
            "outputs": [
                {
                    "name": "stdout",
                    "output_type": "stream",
                    "text": "--2020-08-16 19:24:12--  http://cocl.us/Geospatial_data\nResolving cocl.us (cocl.us)... 169.55.161.7\nConnecting to cocl.us (cocl.us)|169.55.161.7|:80... connected.\nHTTP request sent, awaiting response... 301 Moved Permanently\nLocation: https://cocl.us/Geospatial_data [following]\n--2020-08-16 19:24:12--  https://cocl.us/Geospatial_data\nConnecting to cocl.us (cocl.us)|169.55.161.7|:443... connected.\nHTTP request sent, awaiting response... 301 Moved Permanently\nLocation: https://ibm.box.com/shared/static/9afzr83pps4pwf2smjjcf1y5mvgb18rr.csv [following]\n--2020-08-16 19:24:12--  https://ibm.box.com/shared/static/9afzr83pps4pwf2smjjcf1y5mvgb18rr.csv\nResolving ibm.box.com (ibm.box.com)... 107.152.29.197\nConnecting to ibm.box.com (ibm.box.com)|107.152.29.197|:443... connected.\nHTTP request sent, awaiting response... 301 Moved Permanently\nLocation: /public/static/9afzr83pps4pwf2smjjcf1y5mvgb18rr.csv [following]\n--2020-08-16 19:24:13--  https://ibm.box.com/public/static/9afzr83pps4pwf2smjjcf1y5mvgb18rr.csv\nReusing existing connection to ibm.box.com:443.\nHTTP request sent, awaiting response... 301 Moved Permanently\nLocation: https://ibm.ent.box.com/public/static/9afzr83pps4pwf2smjjcf1y5mvgb18rr.csv [following]\n--2020-08-16 19:24:13--  https://ibm.ent.box.com/public/static/9afzr83pps4pwf2smjjcf1y5mvgb18rr.csv\nResolving ibm.ent.box.com (ibm.ent.box.com)... 107.152.29.201\nConnecting to ibm.ent.box.com (ibm.ent.box.com)|107.152.29.201|:443... connected.\nHTTP request sent, awaiting response... 302 Found\nLocation: https://public.boxcloud.com/d/1/b1!XtQbnHhXLTR4N348cEQLMYPAFOcjJMoOPsvJtRM6nk5o7x9dDoz6bAh88EpV0IK5prLZxLP7434X_ry6rQx7DBbWahkD309YuvkotiTf_2BpQN5stAAxE9pqZnK1BI_3i3RKLlxYXsSJpu56t3Xjev_LsdP-OdT_WnDb9OyExQG6DurJOKqGjDgRtOByRCdaJuZ1K_4SY1sieDQVCnpXvEWlzB3kAEqcoKXf_rVSDEnrdxJKrCkgDobB5wJP7zJjief5tijfCaVWag2huw_ftOMSKKhKVpKVx3I6Eq5Hjw_xjH95JsfZaA0AgpN8VS7cCyB26VD8szJQsB0KbBiBD-IbsWHGJGBJiV4FosEzt_do1XNNiVP0_BNZoD8ueuTeemW-Ac_T67HtcB9QhJbEN2gtNrIZ6IBkZrmpxsoW0ovElk4OYefJMmpGbzAtQKEkkH0RQ26bOig0sptfR2afstKl-EUZFknOsz0zx7JYInboMFqlTfWrUJIdE1_nw1sUBzYJnrc-8qo93ktxt2dNVDrY32G8aSn7BK_qOmTyfIMOB-sYawZ8HIRP68yCoHudbdxp5BIUxHet96_8ebGtda49hnxiB4M5DW9pFLe36RS7kVJ0TzrtIm2FbchSqfxWHJpShCzh0cjnJPapX_rkb01uwvPp6M3srcbZ8sfgPtI5ugrhr8P2fktfgq5aQ2OIIDl84HO7hwDO2NAkq0SIpaJ-w6R-bpcXI_1NT2uDoMtFTO6kig9xCziUByjm-SCCC-G8R02KY7FGLbO7Ypt1RKPKV9QokkCHMLjyUiDgIGZ0fmgcsp7fYqUB2Hr3s1kyMsDWHUNYIoVU3M0RCaRl3xClJ3PFlTMyaB-IWWW8zZW0-icMaIgfMvobNZdVffriH_bmFV0qEHwlWQRSJkqbnF6BOImrjVPy1xSCPXbaOYlQcT5iczvBx96_TkeK-ImzcrQuXQ3tzFh2JJqFne8TQi5RQfnR5jrgKZTD_jPScI0RMv56L9NyP3QbdBqwlgYzTAYn9h35AB5d4NyBPjhQi5uDm2h7cHvPDxaKgQ-ekshlNviQ78Q75krJiEYVy3Q-uXAVrOsTWNuzIDZAbo3ag6XytMJtztyYI9zXErFW1-wVVGSCHt_4ubIf4P88c3OC7Vd_398IMNPnqZX71y6HWTsq_u0YGQ-RtrmKmydByuvTGSXqrGy1paR5b9EIgfqH19RQul0ObeOHaknWWAXjhlS-T3izVQWRQWN4_jKd_Nb9vUVu6DdvQGc_q1nQnpakUpphonumokLQnZnPqiBKtcd90vtcx1bb0psCRUtrStWaHpkCN-CiJe3dQO4JwHBQca7IAoOwtikS5Of0tzhM7G5fP1Hrj6BN-C3isxueoklwVMNfGtlEYFVFuVdPixXzcYodFavi2MtjoA5djJubQutYmhgWhyENBp0nXpRnujmG/download [following]\n--2020-08-16 19:24:13--  https://public.boxcloud.com/d/1/b1!XtQbnHhXLTR4N348cEQLMYPAFOcjJMoOPsvJtRM6nk5o7x9dDoz6bAh88EpV0IK5prLZxLP7434X_ry6rQx7DBbWahkD309YuvkotiTf_2BpQN5stAAxE9pqZnK1BI_3i3RKLlxYXsSJpu56t3Xjev_LsdP-OdT_WnDb9OyExQG6DurJOKqGjDgRtOByRCdaJuZ1K_4SY1sieDQVCnpXvEWlzB3kAEqcoKXf_rVSDEnrdxJKrCkgDobB5wJP7zJjief5tijfCaVWag2huw_ftOMSKKhKVpKVx3I6Eq5Hjw_xjH95JsfZaA0AgpN8VS7cCyB26VD8szJQsB0KbBiBD-IbsWHGJGBJiV4FosEzt_do1XNNiVP0_BNZoD8ueuTeemW-Ac_T67HtcB9QhJbEN2gtNrIZ6IBkZrmpxsoW0ovElk4OYefJMmpGbzAtQKEkkH0RQ26bOig0sptfR2afstKl-EUZFknOsz0zx7JYInboMFqlTfWrUJIdE1_nw1sUBzYJnrc-8qo93ktxt2dNVDrY32G8aSn7BK_qOmTyfIMOB-sYawZ8HIRP68yCoHudbdxp5BIUxHet96_8ebGtda49hnxiB4M5DW9pFLe36RS7kVJ0TzrtIm2FbchSqfxWHJpShCzh0cjnJPapX_rkb01uwvPp6M3srcbZ8sfgPtI5ugrhr8P2fktfgq5aQ2OIIDl84HO7hwDO2NAkq0SIpaJ-w6R-bpcXI_1NT2uDoMtFTO6kig9xCziUByjm-SCCC-G8R02KY7FGLbO7Ypt1RKPKV9QokkCHMLjyUiDgIGZ0fmgcsp7fYqUB2Hr3s1kyMsDWHUNYIoVU3M0RCaRl3xClJ3PFlTMyaB-IWWW8zZW0-icMaIgfMvobNZdVffriH_bmFV0qEHwlWQRSJkqbnF6BOImrjVPy1xSCPXbaOYlQcT5iczvBx96_TkeK-ImzcrQuXQ3tzFh2JJqFne8TQi5RQfnR5jrgKZTD_jPScI0RMv56L9NyP3QbdBqwlgYzTAYn9h35AB5d4NyBPjhQi5uDm2h7cHvPDxaKgQ-ekshlNviQ78Q75krJiEYVy3Q-uXAVrOsTWNuzIDZAbo3ag6XytMJtztyYI9zXErFW1-wVVGSCHt_4ubIf4P88c3OC7Vd_398IMNPnqZX71y6HWTsq_u0YGQ-RtrmKmydByuvTGSXqrGy1paR5b9EIgfqH19RQul0ObeOHaknWWAXjhlS-T3izVQWRQWN4_jKd_Nb9vUVu6DdvQGc_q1nQnpakUpphonumokLQnZnPqiBKtcd90vtcx1bb0psCRUtrStWaHpkCN-CiJe3dQO4JwHBQca7IAoOwtikS5Of0tzhM7G5fP1Hrj6BN-C3isxueoklwVMNfGtlEYFVFuVdPixXzcYodFavi2MtjoA5djJubQutYmhgWhyENBp0nXpRnujmG/download\nResolving public.boxcloud.com (public.boxcloud.com)... 107.152.29.200\nConnecting to public.boxcloud.com (public.boxcloud.com)|107.152.29.200|:443... connected.\nHTTP request sent, awaiting response... 200 OK\nLength: 2891 (2.8K) [text/csv]\nSaving to: \u2018geospatical.csv\u2019\n\n100%[======================================>] 2,891       --.-K/s   in 0s      \n\n2020-08-16 19:24:14 (134 MB/s) - \u2018geospatical.csv\u2019 saved [2891/2891]\n\n"
                }
            ],
            "source": "!wget -O geospatical.csv http://cocl.us/Geospatial_data"
        },
        {
            "cell_type": "code",
            "execution_count": 39,
            "metadata": {},
            "outputs": [
                {
                    "data": {
                        "text/html": "<div>\n<style scoped>\n    .dataframe tbody tr th:only-of-type {\n        vertical-align: middle;\n    }\n\n    .dataframe tbody tr th {\n        vertical-align: top;\n    }\n\n    .dataframe thead th {\n        text-align: right;\n    }\n</style>\n<table border=\"1\" class=\"dataframe\">\n  <thead>\n    <tr style=\"text-align: right;\">\n      <th></th>\n      <th>Postal Code</th>\n      <th>Latitude</th>\n      <th>Longitude</th>\n    </tr>\n  </thead>\n  <tbody>\n    <tr>\n      <th>0</th>\n      <td>M1B</td>\n      <td>43.806686</td>\n      <td>-79.194353</td>\n    </tr>\n    <tr>\n      <th>1</th>\n      <td>M1C</td>\n      <td>43.784535</td>\n      <td>-79.160497</td>\n    </tr>\n    <tr>\n      <th>2</th>\n      <td>M1E</td>\n      <td>43.763573</td>\n      <td>-79.188711</td>\n    </tr>\n    <tr>\n      <th>3</th>\n      <td>M1G</td>\n      <td>43.770992</td>\n      <td>-79.216917</td>\n    </tr>\n    <tr>\n      <th>4</th>\n      <td>M1H</td>\n      <td>43.773136</td>\n      <td>-79.239476</td>\n    </tr>\n  </tbody>\n</table>\n</div>",
                        "text/plain": "  Postal Code   Latitude  Longitude\n0         M1B  43.806686 -79.194353\n1         M1C  43.784535 -79.160497\n2         M1E  43.763573 -79.188711\n3         M1G  43.770992 -79.216917\n4         M1H  43.773136 -79.239476"
                    },
                    "execution_count": 39,
                    "metadata": {},
                    "output_type": "execute_result"
                }
            ],
            "source": "# accidentally misspelled geospatial as geospatical when fetching the csv file. \ndf = pd.read_csv('geospatical.csv')\ndf.head()"
        },
        {
            "cell_type": "markdown",
            "metadata": {},
            "source": "#### Merge the two dataframes on the 'Postal Code' column"
        },
        {
            "cell_type": "code",
            "execution_count": 41,
            "metadata": {},
            "outputs": [
                {
                    "data": {
                        "text/html": "<div>\n<style scoped>\n    .dataframe tbody tr th:only-of-type {\n        vertical-align: middle;\n    }\n\n    .dataframe tbody tr th {\n        vertical-align: top;\n    }\n\n    .dataframe thead th {\n        text-align: right;\n    }\n</style>\n<table border=\"1\" class=\"dataframe\">\n  <thead>\n    <tr style=\"text-align: right;\">\n      <th></th>\n      <th>Postal Code</th>\n      <th>Borough</th>\n      <th>Neighbourhood</th>\n      <th>Latitude_x</th>\n      <th>Longitude_x</th>\n      <th>Latitude_y</th>\n      <th>Longitude_y</th>\n    </tr>\n  </thead>\n  <tbody>\n    <tr>\n      <th>0</th>\n      <td>M3A</td>\n      <td>North York</td>\n      <td>Parkwoods</td>\n      <td>43.753259</td>\n      <td>-79.329656</td>\n      <td>43.753259</td>\n      <td>-79.329656</td>\n    </tr>\n    <tr>\n      <th>1</th>\n      <td>M4A</td>\n      <td>North York</td>\n      <td>Victoria Village</td>\n      <td>43.725882</td>\n      <td>-79.315572</td>\n      <td>43.725882</td>\n      <td>-79.315572</td>\n    </tr>\n    <tr>\n      <th>2</th>\n      <td>M5A</td>\n      <td>Downtown Toronto</td>\n      <td>Regent Park, Harbourfront</td>\n      <td>43.654260</td>\n      <td>-79.360636</td>\n      <td>43.654260</td>\n      <td>-79.360636</td>\n    </tr>\n    <tr>\n      <th>3</th>\n      <td>M6A</td>\n      <td>North York</td>\n      <td>Lawrence Manor, Lawrence Heights</td>\n      <td>43.718518</td>\n      <td>-79.464763</td>\n      <td>43.718518</td>\n      <td>-79.464763</td>\n    </tr>\n    <tr>\n      <th>4</th>\n      <td>M7A</td>\n      <td>Downtown Toronto</td>\n      <td>Queen's Park, Ontario Provincial Government</td>\n      <td>43.662301</td>\n      <td>-79.389494</td>\n      <td>43.662301</td>\n      <td>-79.389494</td>\n    </tr>\n  </tbody>\n</table>\n</div>",
                        "text/plain": "  Postal Code           Borough                                Neighbourhood  \\\n0         M3A        North York                                    Parkwoods   \n1         M4A        North York                             Victoria Village   \n2         M5A  Downtown Toronto                    Regent Park, Harbourfront   \n3         M6A        North York             Lawrence Manor, Lawrence Heights   \n4         M7A  Downtown Toronto  Queen's Park, Ontario Provincial Government   \n\n   Latitude_x  Longitude_x  Latitude_y  Longitude_y  \n0   43.753259   -79.329656   43.753259   -79.329656  \n1   43.725882   -79.315572   43.725882   -79.315572  \n2   43.654260   -79.360636   43.654260   -79.360636  \n3   43.718518   -79.464763   43.718518   -79.464763  \n4   43.662301   -79.389494   43.662301   -79.389494  "
                    },
                    "execution_count": 41,
                    "metadata": {},
                    "output_type": "execute_result"
                }
            ],
            "source": "toronto = pd.merge(toronto, df, on='Postal Code')\ntoronto.head(5)"
        }
    ],
    "metadata": {
        "kernelspec": {
            "display_name": "Python 3.6",
            "language": "python",
            "name": "python3"
        },
        "language_info": {
            "codemirror_mode": {
                "name": "ipython",
                "version": 3
            },
            "file_extension": ".py",
            "mimetype": "text/x-python",
            "name": "python",
            "nbconvert_exporter": "python",
            "pygments_lexer": "ipython3",
            "version": "3.6.9"
        }
    },
    "nbformat": 4,
    "nbformat_minor": 1
}